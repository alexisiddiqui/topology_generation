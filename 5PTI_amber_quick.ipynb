{
 "cells": [
  {
   "cell_type": "code",
   "execution_count": 11,
   "metadata": {},
   "outputs": [],
   "source": [
    "# fetch pdb bpti and write to file\n",
    "\n",
    "import sys\n",
    "import os\n",
    "import pdbtools\n",
    "import subprocess\n",
    "pdb_code = \"5PTI\"\n",
    "\n",
    "conditions = (\"APO\", \"amber99\")\n",
    "\n",
    "suffix = \"_\".join(conditions)\n",
    "\n",
    "pdbfile = pdb_code + \".pdb\"\n",
    "\n",
    "outname = pdb_code + \"_\" + suffix + \".pdb\"\n"
   ]
  },
  {
   "cell_type": "code",
   "execution_count": 2,
   "metadata": {},
   "outputs": [],
   "source": [
    "#TODO download and use amber14 forcefield\n",
    "# we need to make adjustments for deuterium\n",
    "# for now just rename to hydrogens "
   ]
  },
  {
   "cell_type": "code",
   "execution_count": 3,
   "metadata": {},
   "outputs": [],
   "source": [
    "!pdb_fetch $pdb_code > $pdbfile\n",
    "\n"
   ]
  },
  {
   "cell_type": "code",
   "execution_count": 4,
   "metadata": {},
   "outputs": [],
   "source": [
    "!pdb_delhetatm $pdbfile  > $outname\n"
   ]
  },
  {
   "cell_type": "code",
   "execution_count": 5,
   "metadata": {},
   "outputs": [
    {
     "name": "stderr",
     "output_type": "stream",
     "text": [
      "/Users/alexi/miniconda/envs/top_gen/lib/python3.11/site-packages/tqdm/auto.py:21: TqdmWarning: IProgress not found. Please update jupyter and ipywidgets. See https://ipywidgets.readthedocs.io/en/stable/user_install.html\n",
      "  from .autonotebook import tqdm as notebook_tqdm\n",
      "/Users/alexi/miniconda/envs/top_gen/lib/python3.11/site-packages/MDAnalysis/topology/TPRParser.py:161: DeprecationWarning: 'xdrlib' is deprecated and slated for removal in Python 3.13\n",
      "  import xdrlib\n",
      "/Users/alexi/miniconda/envs/top_gen/lib/python3.11/site-packages/MDAnalysis/topology/PDBParser.py:348: UserWarning: Unknown element D found for some atoms. These have been given an empty element record. If needed they can be guessed using MDAnalysis.topology.guessers.\n",
      "  warnings.warn(wmsg)\n",
      "/Users/alexi/miniconda/envs/top_gen/lib/python3.11/site-packages/MDAnalysis/topology/guessers.py:146: UserWarning: Failed to guess the mass for the following atom types: D\n",
      "  warnings.warn(\"Failed to guess the mass for the following atom types: {}\".format(atom_type))\n",
      "/Users/alexi/miniconda/envs/top_gen/lib/python3.11/site-packages/MDAnalysis/coordinates/PDB.py:1151: UserWarning: Found no information for attr: 'formalcharges' Using default value of '0'\n",
      "  warnings.warn(\"Found no information for attr: '{}'\"\n"
     ]
    }
   ],
   "source": [
    "# convert D to H using mdanalysis\n",
    "import MDAnalysis as mda\n",
    "\n",
    "h_name = outname.replace(\".pdb\", \"_H.pdb\")\n",
    "\n",
    "u = mda.Universe(outname)\n",
    "\n",
    "for atom in u.atoms:\n",
    "    if atom.element == \"D\" or atom.type == \"D\":\n",
    "        name = atom.name\n",
    "        atom.name = name.replace(\"D\", \"H\")\n",
    "        atom.element = \"H\"\n",
    "        atom.type = \"H\"\n",
    "\n",
    "u.atoms.write(h_name)\n",
    "\n"
   ]
  },
  {
   "cell_type": "code",
   "execution_count": 6,
   "metadata": {},
   "outputs": [
    {
     "name": "stdout",
     "output_type": "stream",
     "text": [
      "gmx pdb2gmx -f 5PTI_APO_amber99_H.pdb -o 5PTI_APO_amber99_H.gro -p 5PTI_APO_amber99_H.top -water spc -ignh\n"
     ]
    }
   ],
   "source": [
    "ph = 7.0\n",
    "temp = 300.0\n",
    "\n",
    "#pdb2gmx for now - update with tleap later\n",
    "\n",
    "pdb2gmx_cmd = [\"gmx\",\"pdb2gmx\", \n",
    "               \"-f\", h_name, \n",
    "               \"-o\", h_name.replace(\".pdb\", \".gro\"), \n",
    "               \"-p\", h_name.replace(\".pdb\", \".top\"),\n",
    "               \"-water\", \"spc\", \n",
    "            #    \"-ff\", \"amber99sb-ildn.ff\", \n",
    "               \"-ignh\"]\n",
    "\n",
    "print(\" \".join(pdb2gmx_cmd))"
   ]
  },
  {
   "cell_type": "code",
   "execution_count": 7,
   "metadata": {},
   "outputs": [
    {
     "name": "stdout",
     "output_type": "stream",
     "text": [
      "gmx editconf -f 5PTI_APO_amber99_H.gro -o 5PTI_APO_amber99_H_box.gro -c -d 1.0 -bt cubic\n"
     ]
    }
   ],
   "source": [
    "# place in box \n",
    "editconf_cmd = [\"gmx\", \"editconf\", \n",
    "                \"-f\", h_name.replace(\".pdb\", \".gro\"), \n",
    "                \"-o\", h_name.replace(\".pdb\", \"_box.gro\"), \n",
    "                \"-c\", \"-d\", \"1.0\", \"-bt\", \"cubic\"]\n",
    "\n",
    "print(\" \".join(editconf_cmd))\n",
    "subprocess.run(editconf_cmd )"
   ]
  },
  {
   "cell_type": "code",
   "execution_count": 8,
   "metadata": {},
   "outputs": [
    {
     "name": "stdout",
     "output_type": "stream",
     "text": [
      "gmx solvate -cp 5PTI_APO_amber99_H_box.gro -cs spc216.gro -o 5PTI_APO_amber99_H_solv.gro -p 5PTI_APO_amber99_H.top\n"
     ]
    }
   ],
   "source": [
    "# and solvate and add ions\n",
    "solvate_cmd = [\"gmx\", \"solvate\", \n",
    "               \"-cp\", h_name.replace(\".pdb\", \"_box.gro\"),\n",
    "               \"-cs\", \"spc216.gro\", \n",
    "               \"-o\", h_name.replace(\".pdb\", \"_solv.gro\"), \n",
    "               \"-p\", h_name.replace(\".pdb\", \".top\")]\n",
    "\n",
    "print(\" \".join(solvate_cmd))\n",
    "subprocess.run(pdb2gmx_cmd)"
   ]
  },
  {
   "cell_type": "code",
   "execution_count": 15,
   "metadata": {},
   "outputs": [
    {
     "name": "stdout",
     "output_type": "stream",
     "text": [
      "gmx grompp -f test.mdp -c 5PTI_APO_amber99_H_solv.gro -p 5PTI_APO_amber99_H.top -o ions.tpr\n",
      "Setting the LD random seed to -4194319\n",
      "\n",
      "Generated 2145 of the 2145 non-bonded parameter combinations\n",
      "\n",
      "Generated 2145 of the 2145 1-4 parameter combinations\n",
      "\n",
      "Excluding 3 bonded neighbours molecule type 'Protein_chain_A'\n",
      "\n",
      "Excluding 2 bonded neighbours molecule type 'SOL'\n",
      "Analysing residue names:\n",
      "There are:    58    Protein residues\n",
      "There are:  6547      Water residues\n",
      "Analysing Protein...\n",
      "\n",
      "This run will generate roughly 2 Mb of data\n",
      "gmx genion -s ions.tpr -o 5PTI_APO_amber99_H_solv_ions.gro -p 5PTI_APO_amber99_H.top -pname NA -nname CL -neutral -conc 0.15\n"
     ]
    },
    {
     "name": "stderr",
     "output_type": "stream",
     "text": [
      "                      :-) GROMACS - gmx grompp, 2023.3 (-:\n",
      "\n",
      "Executable:   /usr/local/gromacs/bin/gmx\n",
      "Data prefix:  /usr/local/gromacs\n",
      "Working dir:  /Users/alexi/Library/CloudStorage/OneDrive-Nexus365/Rotation_Projects/Rotation_3/Project/topology_generation\n",
      "Command line:\n",
      "  gmx grompp -f test.mdp -c 5PTI_APO_amber99_H_solv.gro -p 5PTI_APO_amber99_H.top -o ions.tpr\n",
      "\n",
      "\n",
      "NOTE 1 [file test.mdp]:\n",
      "  For a correct single-point energy evaluation with nsteps = 0, use\n",
      "  continuation = yes to avoid constraining the input coordinates.\n",
      "\n",
      "Generating 1-4 interactions: fudge = 0.5\n",
      "\n",
      "NOTE 2 [file 5PTI_APO_amber99_H.top, line 8555]:\n",
      "  System has non-zero total charge: 6.000000\n",
      "  Total charge should normally be an integer. See\n",
      "  http://www.gromacs.org/Documentation/Floating_Point_Arithmetic\n",
      "  for discussion on how close it should be to an integer.\n",
      "\n",
      "\n",
      "\n",
      "\n",
      "NOTE 3 [file 5PTI_APO_amber99_H.top, line 8555]:\n",
      "  The bond in molecule-type Protein_chain_A between atoms 158 OH and 159 HH\n",
      "  has an estimated oscillational period of 9.0e-03 ps, which is less than\n",
      "  10 times the time step of 1.0e-03 ps.\n",
      "  Maybe you forgot to change the constraints mdp option.\n",
      "\n",
      "Number of degrees of freedom in T-Coupling group rest is 41955.00\n",
      "The integrator does not provide a ensemble temperature, there is no system ensemble temperature\n",
      "\n",
      "NOTE 4 [file test.mdp]:\n",
      "  NVE simulation with an initial temperature of zero: will use a Verlet\n",
      "  buffer of 10%. Check your energy drift!\n",
      "\n",
      "\n",
      "NOTE 5 [file test.mdp]:\n",
      "  You are using a plain Coulomb cut-off, which might produce artifacts.\n",
      "  You might want to consider using PME electrostatics.\n",
      "\n",
      "\n",
      "\n",
      "There were 5 NOTEs\n",
      "\n",
      "Back Off! I just backed up ions.tpr to ./#ions.tpr.1#\n",
      "\n",
      "GROMACS reminds you: \"set: No match.\" (tcsh)\n",
      "\n"
     ]
    }
   ],
   "source": [
    "!touch test.mdp\n",
    "# add ions\n",
    "grompp_cmd = [\"gmx\", \"grompp\", \n",
    "              \"-f\", \"test.mdp\", \n",
    "              \"-c\", h_name.replace(\".pdb\", \"_solv.gro\"), \n",
    "              \"-p\", h_name.replace(\".pdb\", \".top\"), \n",
    "              \"-o\", \"ions.tpr\"]\n",
    "\n",
    "print(\" \".join(grompp_cmd))\n",
    "subprocess.run(grompp_cmd)\n"
   ]
  },
  {
   "cell_type": "code",
   "execution_count": 16,
   "metadata": {},
   "outputs": [
    {
     "name": "stdout",
     "output_type": "stream",
     "text": [
      "gmx genion -s ions.tpr -o 5PTI_APO_amber99_H_solv_ions.gro -p 5PTI_APO_amber99_H.top -pname NA -nname CL -neutral -conc 0.15\n"
     ]
    }
   ],
   "source": [
    "\n",
    "genion_cmd = [\"gmx\", \"genion\",\n",
    "                \"-s\", \"ions.tpr\", \n",
    "                \"-o\", h_name.replace(\".pdb\", \"_solv_ions.gro\"), \n",
    "                \"-p\", h_name.replace(\".pdb\", \".top\"), \n",
    "                \"-pname\", \"NA\", \"-nname\", \"CL\", \n",
    "                \"-neutral\", \"-conc\", \"0.15\"]\n",
    "print(\" \".join(genion_cmd))"
   ]
  },
  {
   "cell_type": "code",
   "execution_count": null,
   "metadata": {},
   "outputs": [],
   "source": []
  }
 ],
 "metadata": {
  "kernelspec": {
   "display_name": "top_gen",
   "language": "python",
   "name": "python3"
  },
  "language_info": {
   "codemirror_mode": {
    "name": "ipython",
    "version": 3
   },
   "file_extension": ".py",
   "mimetype": "text/x-python",
   "name": "python",
   "nbconvert_exporter": "python",
   "pygments_lexer": "ipython3",
   "version": "3.11.7"
  }
 },
 "nbformat": 4,
 "nbformat_minor": 2
}
